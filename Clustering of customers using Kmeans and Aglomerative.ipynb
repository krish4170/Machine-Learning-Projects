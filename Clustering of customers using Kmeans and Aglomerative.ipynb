{
 "cells": [
  {
   "cell_type": "markdown",
   "id": "8237daa3",
   "metadata": {},
   "source": [
    "# CUSTOMER SORTING BY K-MEANS AND HEIRARCICHAL CLUSTERING"
   ]
  },
  {
   "cell_type": "markdown",
   "id": "03b4c05c",
   "metadata": {},
   "source": [
    "### Changing the directory of Notebook"
   ]
  },
  {
   "cell_type": "code",
   "execution_count": null,
   "id": "61c4d640",
   "metadata": {},
   "outputs": [],
   "source": [
    "cd C:\\Users\\pooja\\Downloads\\MLProjects "
   ]
  },
  {
   "cell_type": "markdown",
   "id": "b49e4f36",
   "metadata": {},
   "source": [
    "### Import required libraries for clustering"
   ]
  },
  {
   "cell_type": "code",
   "execution_count": null,
   "id": "bbc50b88",
   "metadata": {},
   "outputs": [],
   "source": [
    "import pandas as pd \n",
    "import numpy as np \n",
    "import matplotlib.pyplot as plt\n",
    "import seaborn as sns\n",
    "import datetime as dt\n",
    "import plotly.express as px\n",
    "\n",
    "\n",
    "import sklearn\n",
    "from sklearn.preprocessing import StandardScaler,LabelEncoder\n",
    "from sklearn.cluster import KMeans\n",
    "from sklearn.metrics import silhouette_score\n",
    "from scipy.cluster.hierarchy import linkage\n",
    "from scipy.cluster.hierarchy import dendrogram\n",
    "from scipy.cluster.hierarchy import cut_tree\n",
    "# to remove warnings\n",
    "import warnings \n",
    "warnings.filterwarnings('ignore')"
   ]
  },
  {
   "cell_type": "markdown",
   "id": "c4d9176a",
   "metadata": {},
   "source": [
    "### Importing the dataset"
   ]
  },
  {
   "cell_type": "code",
   "execution_count": null,
   "id": "fae2d109",
   "metadata": {},
   "outputs": [],
   "source": [
    "df=pd.read_excel(\"Online Retail.xlsx\")\n",
    "df.head()"
   ]
  },
  {
   "cell_type": "markdown",
   "id": "e5e9c065",
   "metadata": {},
   "source": [
    "### Data Preprocessing"
   ]
  },
  {
   "cell_type": "code",
   "execution_count": null,
   "id": "0dbf88d8",
   "metadata": {},
   "outputs": [],
   "source": [
    "df.info()"
   ]
  },
  {
   "cell_type": "code",
   "execution_count": null,
   "id": "6e525e2b",
   "metadata": {},
   "outputs": [],
   "source": [
    "df.shape"
   ]
  },
  {
   "cell_type": "code",
   "execution_count": null,
   "id": "b18ec931",
   "metadata": {},
   "outputs": [],
   "source": [
    "df.describe()"
   ]
  },
  {
   "cell_type": "code",
   "execution_count": null,
   "id": "722a79c0",
   "metadata": {},
   "outputs": [],
   "source": [
    "df_null = round(100*(df.isnull().sum())/len(df), 2)\n",
    "df_null"
   ]
  },
  {
   "cell_type": "code",
   "execution_count": null,
   "id": "388a0bdc",
   "metadata": {},
   "outputs": [],
   "source": [
    "df=df.dropna()"
   ]
  },
  {
   "cell_type": "code",
   "execution_count": null,
   "id": "ee0f7e3e",
   "metadata": {},
   "outputs": [],
   "source": [
    "df.shape"
   ]
  },
  {
   "cell_type": "code",
   "execution_count": null,
   "id": "7bd46fde",
   "metadata": {},
   "outputs": [],
   "source": [
    "# to check if data is of one country or multiple countries\n",
    "df['Country'].unique()"
   ]
  },
  {
   "cell_type": "code",
   "execution_count": null,
   "id": "96420816",
   "metadata": {},
   "outputs": [],
   "source": [
    "#CHANGING THE DATATYPE OF CUSTOMER ID AS PER THE BUSINESS REQUIREMENT as it uniquely identifies id's and may contain characters\n",
    "df['CustomerID']=df['CustomerID'].astype(str)"
   ]
  },
  {
   "cell_type": "markdown",
   "id": "825f1c28",
   "metadata": {},
   "source": [
    "### FEATURE ENGINEERING"
   ]
  },
  {
   "cell_type": "code",
   "execution_count": null,
   "id": "3f9c5701",
   "metadata": {},
   "outputs": [],
   "source": [
    "df['Amount']=df['Quantity']*df['UnitPrice']\n",
    "df.head()"
   ]
  },
  {
   "cell_type": "code",
   "execution_count": null,
   "id": "7070282b",
   "metadata": {},
   "outputs": [],
   "source": [
    "# This step groups the data in the retail DataFrame by the 'CustomerID' column \n",
    "# to calculates the sum of the 'Amount' column for each customer. \n",
    "df1 = df.groupby('CustomerID')['Amount'].sum().reset_index()\n",
    "df1"
   ]
  },
  {
   "cell_type": "code",
   "execution_count": null,
   "id": "44ad4c9b",
   "metadata": {},
   "outputs": [],
   "source": [
    "# New Attribute : Frequency\n",
    "# count the number of unique invoice numbers for each customer\n",
    "df2 = df.groupby('CustomerID')['InvoiceNo'].count().reset_index()\n",
    "df2.head()"
   ]
  },
  {
   "cell_type": "code",
   "execution_count": null,
   "id": "c40d2280",
   "metadata": {},
   "outputs": [],
   "source": [
    "df2.rename(columns={'InvoiceNo': 'Frequency'}, inplace=True)\n",
    "df2.head()"
   ]
  },
  {
   "cell_type": "code",
   "execution_count": null,
   "id": "b672bd10",
   "metadata": {},
   "outputs": [],
   "source": [
    "# Merging the two dfs\n",
    "\n",
    "dfm = df1.merge(df2, on='CustomerID')\n",
    "# another way \n",
    "# rfm = pd.merge(rfm_m, rfm_f, on='CustomerID', how='inner')\n",
    "dfm.head()"
   ]
  },
  {
   "cell_type": "code",
   "execution_count": null,
   "id": "f8aa0dbe",
   "metadata": {},
   "outputs": [],
   "source": [
    "df['InvoiceDate'] = pd.to_datetime(df['InvoiceDate'],format='%d-%m-%Y %H:%M')\n",
    "df.head()"
   ]
  },
  {
   "cell_type": "code",
   "execution_count": null,
   "id": "f385f09e",
   "metadata": {},
   "outputs": [],
   "source": [
    "# calculate the time difference between the maximum date in the dataset and the transaction date for each record\n",
    "\n",
    "df['Diff'] = max(df['InvoiceDate']) - df['InvoiceDate']\n",
    "df.head()"
   ]
  },
  {
   "cell_type": "code",
   "execution_count": null,
   "id": "aa5293ba",
   "metadata": {},
   "outputs": [],
   "source": [
    "# Compute last transaction date to get the recency of customers \n",
    "# As each customer may have multiple invonces that has been purchased \n",
    "# So we need to create a indicator that tells us when he made the last transaction to find whether he is active or not\n",
    "df3= df.groupby('CustomerID')['Diff'].min().reset_index()\n",
    "df3.head()"
   ]
  },
  {
   "cell_type": "code",
   "execution_count": null,
   "id": "da824e3a",
   "metadata": {},
   "outputs": [],
   "source": [
    "# Extract number of days only\n",
    "\n",
    "df3['Diff'] = df3['Diff'].dt.days\n",
    "df3.head()"
   ]
  },
  {
   "cell_type": "code",
   "execution_count": null,
   "id": "054a23e8",
   "metadata": {},
   "outputs": [],
   "source": [
    "# Merge tha dataframes to get the final RFM dataframe\n",
    "\n",
    "dfm = dfm.merge(df3, on='CustomerID')\n",
    "\n",
    "dfm.rename(columns={'Diff': 'Recency'}, inplace=True)\n",
    "dfm.head()"
   ]
  },
  {
   "cell_type": "code",
   "execution_count": null,
   "id": "91cf89c8",
   "metadata": {},
   "outputs": [],
   "source": [
    "dfm.shape"
   ]
  },
  {
   "cell_type": "code",
   "execution_count": null,
   "id": "a499970c",
   "metadata": {},
   "outputs": [],
   "source": [
    "fig=px.box(dfm[['Frequency','Amount','Recency']],boxmode='group')\n",
    "fig.show()"
   ]
  },
  {
   "cell_type": "code",
   "execution_count": null,
   "id": "d031027b",
   "metadata": {},
   "outputs": [],
   "source": []
  },
  {
   "cell_type": "code",
   "execution_count": null,
   "id": "ec3dadfe",
   "metadata": {},
   "outputs": [],
   "source": [
    "# Removing (statistical) outliers for Amount\n",
    "Q1 = dfm.Amount.quantile(0.10)\n",
    "Q3 = dfm.Amount.quantile(0.90)\n",
    "IQR = Q3 - Q1\n",
    "dfm = dfm[(dfm.Amount >= Q1 - 1.5*IQR) & (dfm.Amount <= Q3 + 1.5*IQR)]\n",
    "\n",
    "\n",
    "\n",
    "# Removing (statistical) outliers for Recency\n",
    "Q1 = dfm.Recency.quantile(0.10)\n",
    "Q3 = dfm.Recency.quantile(0.90)\n",
    "IQR = Q3 - Q1\n",
    "dfm = dfm[(dfm.Recency >= Q1 - 1.5*IQR) & (dfm.Recency <= Q3 + 1.5*IQR)]\n",
    "\n",
    "# Removing (statistical) outliers for Frequency\n",
    "Q1 = dfm.Frequency.quantile(0.10)\n",
    "Q3 = dfm.Frequency.quantile(0.90)\n",
    "IQR = Q3 - Q1\n",
    "dfm = dfm[(dfm.Frequency >= Q1 - 1.5*IQR) & (dfm.Frequency <= Q3 + 1.5*IQR)]"
   ]
  },
  {
   "cell_type": "code",
   "execution_count": null,
   "id": "e0476bd4",
   "metadata": {},
   "outputs": [],
   "source": [
    "fig=px.box(dfm[['Frequency','Amount','Recency']],boxmode='group')\n",
    "fig.show()"
   ]
  },
  {
   "cell_type": "code",
   "execution_count": null,
   "id": "0219906b",
   "metadata": {},
   "outputs": [],
   "source": [
    "dfm.describe()"
   ]
  },
  {
   "cell_type": "code",
   "execution_count": null,
   "id": "17a89ae4",
   "metadata": {},
   "outputs": [],
   "source": [
    "# Rescaling the attributes\n",
    "\n",
    "dfm = dfm[['Amount', 'Frequency', 'Recency']]\n",
    "\n",
    "# Instantiate\n",
    "scaler = StandardScaler()\n",
    "\n",
    "# fit_transform\n",
    "dfm_scaled = scaler.fit_transform(dfm)\n",
    "dfm_scaled.shape"
   ]
  },
  {
   "cell_type": "code",
   "execution_count": null,
   "id": "c0f70dd9",
   "metadata": {},
   "outputs": [],
   "source": [
    "dfm_scaled = pd.DataFrame(dfm_scaled)\n",
    "dfm_scaled.columns = ['Amount', 'Frequency', 'Recency']\n",
    "dfm_scaled.head()"
   ]
  },
  {
   "cell_type": "code",
   "execution_count": null,
   "id": "001239bc",
   "metadata": {},
   "outputs": [],
   "source": []
  },
  {
   "cell_type": "markdown",
   "id": "b17812d2",
   "metadata": {},
   "source": [
    "### BUILDING THE MODEL"
   ]
  },
  {
   "cell_type": "code",
   "execution_count": null,
   "id": "10b5ae65",
   "metadata": {},
   "outputs": [],
   "source": [
    "# k-means with some arbitrary k\n",
    "\n",
    "kmeans = KMeans(n_clusters=4, max_iter=50)\n",
    "kmeans.fit(dfm_scaled)"
   ]
  },
  {
   "cell_type": "code",
   "execution_count": null,
   "id": "2dc31654",
   "metadata": {},
   "outputs": [],
   "source": [
    "#A fundamental step for any unsupervised algorithm is to determine the optimal number of clusters into which the data\n",
    "#may be clustered.The Elbow Method is one of the most popular methods to determine this optimal value of k.¶\n",
    "\n",
    "ssd = []\n",
    "range_n_clusters = [2, 3, 4, 5, 6, 7, 8]\n",
    "\n",
    "for num_clusters in range_n_clusters:\n",
    "    kmeans = KMeans(n_clusters=num_clusters, max_iter=50)\n",
    "    kmeans.fit(dfm_scaled)\n",
    "    \n",
    "    ssd.append(kmeans.inertia_)\n",
    "    print(\"For n_clusters={0}, the Elbow score is {1}\".format(num_clusters, kmeans.inertia_))\n",
    "\n",
    "fig = px.line(x=range_n_clusters, y=ssd, \n",
    "              title=\"Elbow Curve for K-Means Clustering\",\n",
    "              labels={'x': 'Number of Clusters', 'y': 'Sum of Squared Distances (SSD)'})\n",
    "fig.show()\n"
   ]
  },
  {
   "cell_type": "code",
   "execution_count": null,
   "id": "76e67c01",
   "metadata": {},
   "outputs": [],
   "source": [
    "ssd"
   ]
  },
  {
   "cell_type": "code",
   "execution_count": null,
   "id": "14fc4b13",
   "metadata": {},
   "outputs": [],
   "source": [
    "# Silhouette analysis\n",
    "range_n_clusters = [2, 3, 4, 5, 6, 7, 8]\n",
    "\n",
    "for num_clusters in range_n_clusters:\n",
    "    \n",
    "    # intialise kmeans\n",
    "    kmeans = KMeans(n_clusters=num_clusters, max_iter=50)\n",
    "    kmeans.fit(dfm_scaled)\n",
    "    \n",
    "    cluster_labels = kmeans.labels_\n",
    "    \n",
    "    # silhouette score\n",
    "    silhouette_avg = silhouette_score(dfm_scaled, cluster_labels)\n",
    "    print(\"For n_clusters={0}, the silhouette score is {1}\".format(num_clusters, silhouette_avg))\n",
    "    "
   ]
  },
  {
   "cell_type": "code",
   "execution_count": null,
   "id": "97f0ebcf",
   "metadata": {},
   "outputs": [],
   "source": [
    "# Final model with k=3\n",
    "kmeans = KMeans(n_clusters=3, max_iter=50)\n",
    "kmeans.fit(dfm_scaled)"
   ]
  },
  {
   "cell_type": "code",
   "execution_count": null,
   "id": "bc023df1",
   "metadata": {},
   "outputs": [],
   "source": [
    "y_predicted = kmeans.fit_predict(dfm_scaled)\n",
    "y_predicted"
   ]
  },
  {
   "cell_type": "code",
   "execution_count": null,
   "id": "37bad6b6",
   "metadata": {},
   "outputs": [],
   "source": [
    "dfm_scaled['cluster']=y_predicted\n",
    "dfm_scaled.head()"
   ]
  },
  {
   "cell_type": "code",
   "execution_count": null,
   "id": "09fb5e31",
   "metadata": {},
   "outputs": [],
   "source": [
    "score = silhouette_score(dfm_scaled, y_predicted)\n",
    "score"
   ]
  },
  {
   "cell_type": "markdown",
   "id": "902ff213",
   "metadata": {},
   "source": [
    "### Hirarichal Clustering"
   ]
  },
  {
   "cell_type": "code",
   "execution_count": null,
   "id": "79979807",
   "metadata": {},
   "outputs": [],
   "source": [
    "from sklearn.cluster import AgglomerativeClustering"
   ]
  },
  {
   "cell_type": "code",
   "execution_count": null,
   "id": "59713eec",
   "metadata": {},
   "outputs": [],
   "source": [
    "hc = AgglomerativeClustering(n_clusters = 3, affinity = \"euclidean\", linkage = \"single\")\n",
    "cluster = hc.fit_predict(dfm)"
   ]
  },
  {
   "cell_type": "code",
   "execution_count": null,
   "id": "2c07a509",
   "metadata": {},
   "outputs": [],
   "source": [
    "dfm[\"label\"] = cluster"
   ]
  },
  {
   "cell_type": "code",
   "execution_count": null,
   "id": "3ffaa41a",
   "metadata": {},
   "outputs": [],
   "source": [
    "from sklearn.metrics import silhouette_score"
   ]
  },
  {
   "cell_type": "code",
   "execution_count": null,
   "id": "817a730c",
   "metadata": {},
   "outputs": [],
   "source": [
    "score_agg = silhouette_score(dfm, cluster)\n",
    "score_agg"
   ]
  },
  {
   "cell_type": "code",
   "execution_count": null,
   "id": "44c0e0ba",
   "metadata": {},
   "outputs": [],
   "source": []
  }
 ],
 "metadata": {
  "kernelspec": {
   "display_name": "Python 3 (ipykernel)",
   "language": "python",
   "name": "python3"
  },
  "language_info": {
   "codemirror_mode": {
    "name": "ipython",
    "version": 3
   },
   "file_extension": ".py",
   "mimetype": "text/x-python",
   "name": "python",
   "nbconvert_exporter": "python",
   "pygments_lexer": "ipython3",
   "version": "3.10.9"
  }
 },
 "nbformat": 4,
 "nbformat_minor": 5
}
